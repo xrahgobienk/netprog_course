{
 "cells": [
  {
   "cell_type": "code",
   "execution_count": null,
   "metadata": {},
   "outputs": [],
   "source": [
    "# Import library yang diperlukan\n",
    "import imaplib\n",
    "import poplib\n",
    "import getpass\n"
   ]
  },
  {
   "cell_type": "code",
   "execution_count": null,
   "metadata": {},
   "outputs": [],
   "source": [
    "def imap_mail(username):\n",
    "    # Tulis kode program dari sini\n",
    "        # Implementasikan Error-handling \n",
    "    try:\n",
    "        global SERVER\n",
    "        global PORT\n",
    "        mailbox = imaplib.IMAP4_SSL(SERVER, PORT) \n",
    "        password = getpass.getpass(prompt=\"Masukkan password : \") \n",
    "        mailbox.login(username, password)\n",
    "        mailbox.select('Inbox')\n",
    "        typ, data = mailbox.search(None, 'ALL')\n",
    "        for num in data[0].split():\n",
    "            typ, data = mailbox.fetch(num, '(RFC822)')\n",
    "            print('\\n')\n",
    "            print ('Message %s\\n%s\\n' % (num, data[0][1]))\n",
    "            break\n",
    "        mailbox.close()\n",
    "        mailbox.logout()\n",
    "    except:\n",
    "        print('Username dan password tidak sesuai')\n",
    "\n",
    "    # Sampai di sini\n",
    "    \n",
    "def pop_mail(username):\n",
    "    # Tulis kode program dari sini \n",
    "        # Implementasikan Error-handling\n",
    "try:\n",
    "        global SERVER\n",
    "        global PORT\n",
    "        mailbox = poplib.POP3_SSL(SERVER, PORT) \n",
    "        mailbox.user(username)\n",
    "        password = getpass.getpass(prompt='Masukkan password anda : ') \n",
    "        mailbox.pass_(password) \n",
    "        num_messages = len(mailbox.list()[1])\n",
    "        print('\\n')\n",
    "        print ('Total emails: {}'.format(num_messages))\n",
    "        mailbox.quit()\n",
    "    except:\n",
    "        print('Username dan password tidak sesuai')\n",
    "    # Sampai di sini"
   ]
  },
  {
   "cell_type": "markdown",
   "metadata": {},
   "source": [
    "Buatlah sebuah fungsi yang dapat menggabungkan fungsionalitas fungsi `imap_mail()` dan `pop_mail()`"
   ]
  },
  {
   "cell_type": "code",
   "execution_count": null,
   "metadata": {},
   "outputs": [],
   "source": [
    "def mail(username, protocol, host, port):\n",
    "    # Tulis kode program dari sini \n",
    "        # Implementasikan Error-handling\n",
    "\n",
    "    try:\n",
    "        global SERVER \n",
    "        global PORT\n",
    " \n",
    "        if(protocol == 1 and 'gmail' in host):\n",
    "       \n",
    "            SERVER = 'imap.gmail.com'\n",
    "        \n",
    "            PORT = '993'\n",
    "            imap_mail(username)\n",
    "        elif(protocol == 1 and 'aol' in host):\n",
    "        \n",
    "            SERVER = 'imap.aol.com'\n",
    "        \n",
    "            PORT = '993'\n",
    "            imap_mail(username)\n",
    "        elif(protocol == 1 and 'yahoo' in host):\n",
    "        \n",
    "            SERVER = 'imap.mail.yahoo.com'\n",
    "        \n",
    "            PORT = '993'\n",
    "            imap_mail(username)\n",
    "        elif(protocol == 1 and 'outlook' in host or protocol == 1 and 'hotmail' in host or protocol == 1 and 'stikom-bali' in host):\n",
    "        \n",
    "            SERVER = 'outlook.office365.com'\n",
    "        \n",
    "            PORT = '993'\n",
    "            imap_mail(username)\n",
    "        elif(protocol == 2 and 'gmail' in host):\n",
    "        \n",
    "            SERVER = 'pop.gmail.com'\n",
    "       \n",
    "            PORT = '995'\n",
    "            pop_mail(username)\n",
    "        elif(protocol == 2 and 'aol' in host):\n",
    "        \n",
    "            SERVER = 'pop.aol.com'\n",
    "       \n",
    "            PORT = '995'\n",
    "            pop_mail(username)\n",
    "        elif(protocol == 2 and 'yahoo' in host):\n",
    "        \n",
    "            SERVER = 'pop.mail.yahoo.com'\n",
    "       \n",
    "            PORT = '995'\n",
    "            pop_mail(username)\n",
    "        elif(protocol == 2 and 'outlook' in host or protocol == 2 and 'hotmail' in host or protocol == 2 and 'stikom-bali' in host):\n",
    "        \n",
    "            SERVER = 'outlook.office365.com'\n",
    "       \n",
    "            PORT = '995'\n",
    "            pop_mail(username)\n",
    "        else:\n",
    "            print('Host tidak ada')\n",
    "    except:\n",
    "        print('Tidak berhasil')\n",
    "    # Sampai di sini"
   ]
  },
  {
   "cell_type": "markdown",
   "metadata": {},
   "source": [
    "Panggil fungsi `mail()` di bawah ini:"
   ]
  },
  {
   "cell_type": "code",
   "execution_count": null,
   "metadata": {},
   "outputs": [],
   "source": [
    "username = input('Masukkan email : ')\n",
    "try:     \n",
    "    print('Protocol')\n",
    "    print('1. IMAP')\n",
    "    print('2. POP3')\n",
    "    protocol = int(input('Masukkan protocol : '))\n",
    "except:\n",
    "    print('Masukkan harus berupa angka')\n",
    "port = '993'\n",
    "unameSplited = username.split('@',1)\n",
    "host = unameSplited[1]\n",
    "mail(username, protocol, host, port)"
   ]
  }
 ],
 "metadata": {
  "kernelspec": {
   "display_name": "Python 3",
   "language": "python",
   "name": "python3"
  },
  "language_info": {
   "codemirror_mode": {
    "name": "ipython",
    "version": 3
   },
   "file_extension": ".py",
   "mimetype": "text/x-python",
   "name": "python",
   "nbconvert_exporter": "python",
   "pygments_lexer": "ipython3",
   "version": "3.6.9"
  }
 },
 "nbformat": 4,
 "nbformat_minor": 4
}